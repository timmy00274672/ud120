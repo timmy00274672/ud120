{
 "cells": [
  {
   "cell_type": "markdown",
   "metadata": {},
   "source": [
    "# Lesson 6"
   ]
  },
  {
   "cell_type": "markdown",
   "metadata": {},
   "source": [
    "The pwd is `ud120-projects\\datasets_questions` now."
   ]
  },
  {
   "cell_type": "markdown",
   "metadata": {},
   "source": [
    "## Quiz 13: Size Of The Enron Dataset\n",
    "\n",
    "The aggregated Enron email + financial dataset is stored in a dictionary, where each key in the dictionary is a person’s name and the value is a dictionary containing all the features of that person.\n",
    "The email + finance (E+F) data dictionary is stored as a pickle file, which is a handy way to store and load python objects directly. Use **datasets_questions/explore_enron_data.py** to load the dataset.\n",
    "\n",
    "How many data points (people) are in the dataset?"
   ]
  },
  {
   "cell_type": "code",
   "execution_count": 5,
   "metadata": {},
   "outputs": [
    {
     "name": "stdout",
     "output_type": "stream",
     "text": [
      "146\n"
     ]
    }
   ],
   "source": [
    "import pickle\n",
    "\n",
    "enron_data = pickle.load(open(\"../final_project/final_project_dataset.pkl\", \"r\"))\n",
    "print len(enron_data)"
   ]
  },
  {
   "cell_type": "markdown",
   "metadata": {},
   "source": [
    "## Quiz 14 : Features In The Enron Dataset\n",
    "\n",
    "For each person, how many features are available?"
   ]
  },
  {
   "cell_type": "code",
   "execution_count": 7,
   "metadata": {},
   "outputs": [
    {
     "name": "stdout",
     "output_type": "stream",
     "text": [
      "21\n"
     ]
    }
   ],
   "source": [
    "for person, attr in enron_data.items():\n",
    "    print len(attr)\n",
    "    break"
   ]
  },
  {
   "cell_type": "markdown",
   "metadata": {},
   "source": [
    "## Quiz 15: Finding POIs In The Enron Data\n",
    "\n",
    "The “poi” feature records whether the person is a person of interest, according to our definition. How many POIs are there in the E+F dataset?"
   ]
  },
  {
   "cell_type": "code",
   "execution_count": 8,
   "metadata": {},
   "outputs": [
    {
     "name": "stdout",
     "output_type": "stream",
     "text": [
      "18\n"
     ]
    }
   ],
   "source": [
    "poi_in_dataset = [x for x,y in enron_data.items() if y['poi']]\n",
    "print len(poi_in_dataset)"
   ]
  },
  {
   "cell_type": "markdown",
   "metadata": {},
   "source": [
    "## Quiz 16: How Many POIs Exist?\n",
    "\n",
    "We compiled a list of all POI names (in ../final_project/poi_names.txt) and associated email addresses (in ../final_project/poi_email_addresses.py).\n",
    "\n",
    "How many POI’s were there total? (Use the names file, not the email addresses, since many folks have more than one address and a few didn’t work for Enron, so we don’t have their emails.)"
   ]
  },
  {
   "cell_type": "code",
   "execution_count": null,
   "metadata": {},
   "outputs": [],
   "source": [
    "# %load ../final_project/poi_names.txt\n",
    "http://usatoday30.usatoday.com/money/industries/energy/2005-12-28-enron-participants_x.htm\n",
    "\n",
    "(y) Lay, Kenneth\n",
    "(y) Skilling, Jeffrey\n",
    "(n) Howard, Kevin\n",
    "(n) Krautz, Michael\n",
    "(n) Yeager, Scott\n",
    "(n) Hirko, Joseph\n",
    "(n) Shelby, Rex\n",
    "(n) Bermingham, David\n",
    "(n) Darby, Giles\n",
    "(n) Mulgrew, Gary\n",
    "(n) Bayley, Daniel\n",
    "(n) Brown, James\n",
    "(n) Furst, Robert\n",
    "(n) Fuhs, William\n",
    "(n) Causey, Richard\n",
    "(n) Calger, Christopher\n",
    "(n) DeSpain, Timothy\n",
    "(n) Hannon, Kevin\n",
    "(n) Koenig, Mark\n",
    "(y) Forney, John\n",
    "(n) Rice, Kenneth\n",
    "(n) Rieker, Paula\n",
    "(n) Fastow, Lea\n",
    "(n) Fastow, Andrew\n",
    "(y) Delainey, David\n",
    "(n) Glisan, Ben\n",
    "(n) Richter, Jeffrey\n",
    "(n) Lawyer, Larry\n",
    "(n) Belden, Timothy\n",
    "(n) Kopper, Michael\n",
    "(n) Duncan, David\n",
    "(n) Bowen, Raymond\n",
    "(n) Colwell, Wesley\n",
    "(n) Boyle, Dan\n",
    "(n) Loehr, Christopher\n"
   ]
  },
  {
   "cell_type": "code",
   "execution_count": 22,
   "metadata": {},
   "outputs": [
    {
     "name": "stdout",
     "output_type": "stream",
     "text": [
      "35\n"
     ]
    }
   ],
   "source": [
    "# remove the first two lines\n",
    "\n",
    "file = open('../final_project/poi_names.txt')\n",
    "lines = file.readlines()\n",
    "print len(lines[2:])\n",
    "file.close()"
   ]
  },
  {
   "cell_type": "markdown",
   "metadata": {},
   "source": [
    "## Quiz 17: Problems With Incomplete Data\n",
    "\n",
    "As you can see, we have many of the POIs in our E+F dataset, but not all of them. Why is that a potential problem?\n",
    "\n",
    "We will return to this later to explain how a POI could end up not being in the Enron E+F dataset, so you fully understand the issue before moving on."
   ]
  },
  {
   "cell_type": "markdown",
   "metadata": {},
   "source": [
    "Because not all POIs were employed by enron and the data was just subset."
   ]
  },
  {
   "cell_type": "markdown",
   "metadata": {},
   "source": [
    "There are a few things you could say here, but our main thought is about having enough data to really learn the patterns. In general, more data is always better--only having 18 data points doesn't give you that many examples to learn from."
   ]
  }
 ],
 "metadata": {
  "kernelspec": {
   "display_name": "Python 2",
   "language": "python",
   "name": "python2"
  },
  "language_info": {
   "codemirror_mode": {
    "name": "ipython",
    "version": 2
   },
   "file_extension": ".py",
   "mimetype": "text/x-python",
   "name": "python",
   "nbconvert_exporter": "python",
   "pygments_lexer": "ipython2",
   "version": "2.7.13"
  }
 },
 "nbformat": 4,
 "nbformat_minor": 2
}
